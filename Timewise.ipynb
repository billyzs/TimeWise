{
  "nbformat": 4,
  "nbformat_minor": 0,
  "metadata": {
    "colab": {
      "provenance": []
    },
    "kernelspec": {
      "name": "python3",
      "display_name": "Python 3"
    },
    "language_info": {
      "name": "python"
    },
    "accelerator": "GPU",
    "gpuClass": "standard"
  },
  "cells": [
    {
      "cell_type": "code",
      "execution_count": 1,
      "metadata": {
        "id": "V4qBQ0fuSqz6"
      },
      "outputs": [],
      "source": [
        "#@markdown ## ⚠️ PLEASE NOTE:\n",
        "#@markdown This colab runs best using a GPU runtime.  From the Colab menu, choose Runtime > Change Runtime Type, then select **'GPU'** in the dropdown.\n",
        "\n",
        "import functools\n",
        "import jax\n",
        "import os\n",
        "\n",
        "from datetime import datetime\n",
        "from jax import numpy as jp\n",
        "import matplotlib.pyplot as plt\n",
        "\n",
        "from IPython.display import HTML, clear_output\n",
        "\n",
        "try:\n",
        "  import brax\n",
        "except ImportError:\n",
        "  !pip install git+https://github.com/google/brax.git@main\n",
        "  clear_output()\n",
        "  import brax\n",
        "\n",
        "import flax\n",
        "from brax import envs\n",
        "from brax.io import model\n",
        "from brax.io import json\n",
        "from brax.io import html\n",
        "from brax.training.agents.ppo import train as ppo\n",
        "from brax.training.agents.sac import train as sac\n",
        "\n",
        "if 'COLAB_TPU_ADDR' in os.environ:\n",
        "  from jax.tools import colab_tpu\n",
        "  colab_tpu.setup_tpu()"
      ]
    },
    {
      "cell_type": "code",
      "source": [
        "!git clone https://github.com/billyzs/TimeWise.git bzs/train"
      ],
      "metadata": {
        "colab": {
          "base_uri": "https://localhost:8080/"
        },
        "id": "waIVLaNTTm-W",
        "outputId": "057fde37-fe6b-4540-eaf5-f43a6ffa9b3b"
      },
      "execution_count": 2,
      "outputs": [
        {
          "output_type": "stream",
          "name": "stdout",
          "text": [
            "fatal: destination path 'bzs/train' already exists and is not an empty directory.\n"
          ]
        }
      ]
    },
    {
      "cell_type": "code",
      "source": [
        "!pip install wandb"
      ],
      "metadata": {
        "colab": {
          "base_uri": "https://localhost:8080/"
        },
        "id": "v2jZDARPT3be",
        "outputId": "11e4761f-cf7a-4d96-c0e9-4e0b33ec5697"
      },
      "execution_count": 3,
      "outputs": [
        {
          "output_type": "stream",
          "name": "stdout",
          "text": [
            "Looking in indexes: https://pypi.org/simple, https://us-python.pkg.dev/colab-wheels/public/simple/\n",
            "Requirement already satisfied: wandb in /usr/local/lib/python3.10/dist-packages (0.15.1)\n",
            "Requirement already satisfied: psutil>=5.0.0 in /usr/local/lib/python3.10/dist-packages (from wandb) (5.9.5)\n",
            "Requirement already satisfied: setproctitle in /usr/local/lib/python3.10/dist-packages (from wandb) (1.3.2)\n",
            "Requirement already satisfied: protobuf!=4.21.0,<5,>=3.19.0 in /usr/local/lib/python3.10/dist-packages (from wandb) (3.20.3)\n",
            "Requirement already satisfied: setuptools in /usr/local/lib/python3.10/dist-packages (from wandb) (67.7.2)\n",
            "Requirement already satisfied: docker-pycreds>=0.4.0 in /usr/local/lib/python3.10/dist-packages (from wandb) (0.4.0)\n",
            "Requirement already satisfied: pathtools in /usr/local/lib/python3.10/dist-packages (from wandb) (0.1.2)\n",
            "Requirement already satisfied: sentry-sdk>=1.0.0 in /usr/local/lib/python3.10/dist-packages (from wandb) (1.21.1)\n",
            "Requirement already satisfied: appdirs>=1.4.3 in /usr/local/lib/python3.10/dist-packages (from wandb) (1.4.4)\n",
            "Requirement already satisfied: GitPython!=3.1.29,>=1.0.0 in /usr/local/lib/python3.10/dist-packages (from wandb) (3.1.31)\n",
            "Requirement already satisfied: Click!=8.0.0,>=7.0 in /usr/local/lib/python3.10/dist-packages (from wandb) (8.1.3)\n",
            "Requirement already satisfied: PyYAML in /usr/local/lib/python3.10/dist-packages (from wandb) (6.0)\n",
            "Requirement already satisfied: requests<3,>=2.0.0 in /usr/local/lib/python3.10/dist-packages (from wandb) (2.27.1)\n",
            "Requirement already satisfied: six>=1.4.0 in /usr/local/lib/python3.10/dist-packages (from docker-pycreds>=0.4.0->wandb) (1.16.0)\n",
            "Requirement already satisfied: gitdb<5,>=4.0.1 in /usr/local/lib/python3.10/dist-packages (from GitPython!=3.1.29,>=1.0.0->wandb) (4.0.10)\n",
            "Requirement already satisfied: charset-normalizer~=2.0.0 in /usr/local/lib/python3.10/dist-packages (from requests<3,>=2.0.0->wandb) (2.0.12)\n",
            "Requirement already satisfied: urllib3<1.27,>=1.21.1 in /usr/local/lib/python3.10/dist-packages (from requests<3,>=2.0.0->wandb) (1.26.15)\n",
            "Requirement already satisfied: idna<4,>=2.5 in /usr/local/lib/python3.10/dist-packages (from requests<3,>=2.0.0->wandb) (3.4)\n",
            "Requirement already satisfied: certifi>=2017.4.17 in /usr/local/lib/python3.10/dist-packages (from requests<3,>=2.0.0->wandb) (2022.12.7)\n",
            "Requirement already satisfied: smmap<6,>=3.0.1 in /usr/local/lib/python3.10/dist-packages (from gitdb<5,>=4.0.1->GitPython!=3.1.29,>=1.0.0->wandb) (5.0.0)\n"
          ]
        }
      ]
    },
    {
      "cell_type": "code",
      "source": [
        "#!/usr/bin/env python3\n",
        "\n",
        "import functools\n",
        "import os\n",
        "import sys\n",
        "from pathlib import Path\n",
        "import pickle\n",
        "import logging\n",
        "\n",
        "import gin\n",
        "#os.environ[\"XLA_FLAGS\"] = '--xla_force_host_platform_device_count=16'\n",
        "import jax\n",
        "\n",
        "from datetime import datetime\n",
        "from jax import numpy as jp\n",
        "import brax\n",
        "\n",
        "import flax\n",
        "from brax import envs\n",
        "from brax.io import model\n",
        "from brax.io import json\n",
        "from brax.io import html\n",
        "from brax.training.agents.ppo import train as ppo\n",
        "from brax.training.agents.sac import train as sac\n",
        "from brax.training.agents.apg import train as apg\n",
        "import wandb\n",
        "\n",
        "\n",
        "logger = logging.getLogger(\"training\")\n",
        "# wandb_init = gin.external_configurable(wandb.init, name=\"wandb_init\")\n",
        "wandb_init = wandb.init\n",
        "\n",
        "\n",
        "def progress(num_steps, metrics):\n",
        "    logging.info(f\"{num_steps=}\")\n",
        "    logging.info(f\"{metrics=}\")\n",
        "    wandb.log(metrics, step=num_steps)\n",
        "\n",
        "\n",
        "# @gin.configurable\n",
        "def training_main(\n",
        "        env_name: str,\n",
        "        backend: str,\n",
        "        experiment_name: str,\n",
        "        log_store_dir: str,\n",
        "        train_config: dict,\n",
        "):\n",
        "    exp_dir = f\"{log_store_dir}/{experiment_name}/{env_name}\"\n",
        "    Path(exp_dir).mkdir(parents=True, exist_ok=True)\n",
        "\n",
        "    seed = train_config.get(\"seed\")\n",
        "    env = envs.get_environment(env_name=env_name,\n",
        "                               backend=backend)\n",
        "    train_fn = functools.partial(\n",
        "        ppo.train,\n",
        "        **train_config,\n",
        "    )\n",
        "\n",
        "    # no way to save intermediate params, only at very end\n",
        "    make_inference_fn, params, _ = train_fn(\n",
        "        environment=env,\n",
        "        progress_fn=progress,\n",
        "    )\n",
        "    model.save_params(f\"{exp_dir}/params.pickle\", params)\n",
        "    wandb.save(exp_dir)\n",
        "    return env_name, backend, make_inference_fn, params\n",
        "\n",
        "\n",
        "def eval_main(\n",
        "    env_name,\n",
        "    backend,\n",
        "    make_inference_fn,\n",
        "    params,\n",
        "):\n",
        "    env = envs.get_environment(env_name=env_name, backend=backend)\n",
        "    inference_fn = make_inference_fn(params)\n",
        "    jit_env_reset = jax.jit(env.reset)\n",
        "    jit_env_step = jax.jit(env.step)\n",
        "    jit_inference_fn = jax.jit(inference_fn)\n",
        "    for rollout_idx in range(10):\n",
        "        logging.info(f\"{rollout_idx=}\")\n",
        "        rollout = []\n",
        "        rng = jax.random.PRNGKey(seed=rollout_idx)\n",
        "        state = jit_env_reset(rng=rng)\n",
        "        act_rng, rng = jax.random.split(rng)\n",
        "        done = False\n",
        "        while not done:\n",
        "            act, _ = jit_inference_fn(state.obs, act_rng)\n",
        "            state = jit_env_step(state, act)\n",
        "            rollout.append(state.pipeline_state)\n",
        "            done = state.done.any()\n",
        "        logging.info(f\"{rollout_idx=} {len(rollout)=}\")\n",
        "        # TODO bzs save render to json\n",
        "        wandb.Html(html.render(env.sys.replace(dt=env.dt), rollout))\n",
        "\n",
        "\n",
        "if __name__ == \"__main__\":\n",
        "    # gin_config_file = \"/content/humanoid.gin\"\n",
        "    logging.basicConfig(level=logging.INFO)\n",
        "    # gin.parse_config_files_and_bindings([\n",
        "    #     gin_config_file\n",
        "    # ],\n",
        "    #     bindings=None,\n",
        "    #     skip_unknown=False,\n",
        "    #     print_includes_and_imports=True,\n",
        "    # )\n",
        "    wandb_init(\n",
        "        project=\"timewise\",\n",
        "        entity = \"e1even\",\n",
        "        mode=\"online\",\n",
        "        name=\"humanoid_ppo_trial\",\n",
        "        settings=wandb.Settings(start_mode=\"fork\"),\n",
        "    )\n",
        "    try:\n",
        "        logging.info(gin.config_str())\n",
        "        env_name, backend, make_inference_fn, params = training_main(\n",
        "        env_name = \"humanoid\",\n",
        "        backend =  \"generalized\",\n",
        "        experiment_name = \"humanoid\",\n",
        "        log_store_dir = \"humanoid\",\n",
        "        train_config = {\n",
        "            \"num_timesteps\":50000000,\n",
        "            \"num_evals\":10,\n",
        "            \"reward_scaling\":0.1,\n",
        "            \"episode_length\":1000,\n",
        "            \"normalize_observations\":True,\n",
        "            \"action_repeat\":1,\n",
        "            \"unroll_length\":10,\n",
        "            \"num_minibatches\":32,\n",
        "            \"num_updates_per_batch\":8,\n",
        "            \"discounting\":0.97,\n",
        "            \"learning_rate\":3e-4,\n",
        "            \"entropy_cost\":1e-3,\n",
        "            \"num_envs\":2048,\n",
        "            \"batch_size\":1024,\n",
        "            \"seed\": 0xdeadbeef,\n",
        "        })\n",
        "        eval_main(env_name, backend, make_inference_fn, params)\n",
        "    except KeyboardInterrupt:\n",
        "        logging.warning(\"user quit\")\n",
        "    finally:\n",
        "        wandb.finish()"
      ],
      "metadata": {
        "colab": {
          "base_uri": "https://localhost:8080/",
          "height": 140
        },
        "id": "VESus-aQTSzc",
        "outputId": "effee62c-3299-416c-a456-ff810b48168c"
      },
      "execution_count": null,
      "outputs": [
        {
          "output_type": "stream",
          "name": "stderr",
          "text": [
            "\u001b[34m\u001b[1mwandb\u001b[0m: \u001b[33mWARNING\u001b[0m Ignoring unexpected arguments: ['start_mode']. This will raise an error in the future.\n",
            "\u001b[34m\u001b[1mwandb\u001b[0m: Currently logged in as: \u001b[33monatv\u001b[0m. Use \u001b[1m`wandb login --relogin`\u001b[0m to force relogin\n"
          ]
        },
        {
          "output_type": "display_data",
          "data": {
            "text/plain": [
              "<IPython.core.display.HTML object>"
            ],
            "text/html": [
              "Tracking run with wandb version 0.15.1"
            ]
          },
          "metadata": {}
        },
        {
          "output_type": "display_data",
          "data": {
            "text/plain": [
              "<IPython.core.display.HTML object>"
            ],
            "text/html": [
              "Run data is saved locally in <code>/content/wandb/run-20230504_154846-9av967zw</code>"
            ]
          },
          "metadata": {}
        },
        {
          "output_type": "display_data",
          "data": {
            "text/plain": [
              "<IPython.core.display.HTML object>"
            ],
            "text/html": [
              "Syncing run <strong><a href='https://wandb.ai/onatv/timewise/runs/9av967zw' target=\"_blank\">humanoid_ppo_trial</a></strong> to <a href='https://wandb.ai/onatv/timewise' target=\"_blank\">Weights & Biases</a> (<a href='https://wandb.me/run' target=\"_blank\">docs</a>)<br/>"
            ]
          },
          "metadata": {}
        },
        {
          "output_type": "display_data",
          "data": {
            "text/plain": [
              "<IPython.core.display.HTML object>"
            ],
            "text/html": [
              " View project at <a href='https://wandb.ai/onatv/timewise' target=\"_blank\">https://wandb.ai/onatv/timewise</a>"
            ]
          },
          "metadata": {}
        },
        {
          "output_type": "display_data",
          "data": {
            "text/plain": [
              "<IPython.core.display.HTML object>"
            ],
            "text/html": [
              " View run at <a href='https://wandb.ai/onatv/timewise/runs/9av967zw' target=\"_blank\">https://wandb.ai/onatv/timewise/runs/9av967zw</a>"
            ]
          },
          "metadata": {}
        }
      ]
    }
  ]
}